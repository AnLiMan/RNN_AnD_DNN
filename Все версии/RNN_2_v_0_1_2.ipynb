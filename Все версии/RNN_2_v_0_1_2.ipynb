{
  "nbformat": 4,
  "nbformat_minor": 0,
  "metadata": {
    "colab": {
      "name": "RNN_2 v 0.1.2.ipynb",
      "provenance": [],
      "collapsed_sections": [],
      "authorship_tag": "ABX9TyP7tpIZaNGSb9PR+KxI5z2v",
      "include_colab_link": true
    },
    "kernelspec": {
      "name": "python3",
      "display_name": "Python 3"
    },
    "language_info": {
      "name": "python"
    }
  },
  "cells": [
    {
      "cell_type": "markdown",
      "metadata": {
        "id": "view-in-github",
        "colab_type": "text"
      },
      "source": [
        "<a href=\"https://colab.research.google.com/github/AnLiMan/RNN/blob/main/RNN_2_v_0_1_2.ipynb\" target=\"_parent\"><img src=\"https://colab.research.google.com/assets/colab-badge.svg\" alt=\"Open In Colab\"/></a>"
      ]
    },
    {
      "cell_type": "markdown",
      "metadata": {
        "id": "JfyHP52Z4iSY"
      },
      "source": [
        "Подключение гугл диска"
      ]
    },
    {
      "cell_type": "code",
      "metadata": {
        "colab": {
          "base_uri": "https://localhost:8080/"
        },
        "id": "9SRlmvBdEXyc",
        "outputId": "a4430815-40bf-4b16-f72d-80c03724df34"
      },
      "source": [
        "from google.colab import drive\n",
        "drive.mount('/content/drive')\n",
        "number_of_interations = 1\n",
        "print('Текущий номер для сохранения модели, чекпоинтов, а также загрузки существующей модели с облака: ', number_of_interations)"
      ],
      "execution_count": 1,
      "outputs": [
        {
          "output_type": "stream",
          "name": "stdout",
          "text": [
            "Mounted at /content/drive\n",
            "Текущий номер для сохранения модели, чекпоинтов, а также загрузки существующей модели с облака:  1\n"
          ]
        }
      ]
    },
    {
      "cell_type": "markdown",
      "metadata": {
        "id": "CjNhwqoLFSHy"
      },
      "source": [
        "Библиотеки"
      ]
    },
    {
      "cell_type": "code",
      "metadata": {
        "id": "xVR-lyfY3PGw"
      },
      "source": [
        "from pandas import read_csv\n",
        "import numpy as np\n",
        "from tensorflow import keras\n",
        "from keras.models import Sequential\n",
        "from keras.layers import Dense, SimpleRNN\n",
        "from sklearn.preprocessing import MinMaxScaler\n",
        "from sklearn.metrics import mean_squared_error\n",
        "import math\n",
        "import matplotlib.pyplot as plt"
      ],
      "execution_count": 2,
      "outputs": []
    },
    {
      "cell_type": "markdown",
      "metadata": {
        "id": "pp-gEymR4qbM"
      },
      "source": [
        "Keras SimpleRNN\n",
        "The function below returns a model that includes a SimpleRNN layer and a Dense layer for learning sequential data. The input_shape specifies the parameter (time_steps x features). We’ll simplify everything and use univariate data, i.e., one feature only; the time_steps are discussed below."
      ]
    },
    {
      "cell_type": "code",
      "metadata": {
        "id": "SG2c7pwv4hS-"
      },
      "source": [
        "def create_RNN(hidden_units, dense_units, input_shape, activation):\n",
        "    model = Sequential()\n",
        "    model.add(SimpleRNN(hidden_units, input_shape=input_shape, activation = activation[0]))\n",
        "    model.add(Dense(units=dense_units, activation=activation[1]))\n",
        "    model.compile(loss = 'mean_squared_error', optimizer = 'adam')\n",
        "    return model\n",
        "\n",
        "demo_model = create_RNN(5, 1, (6,1), activation=['linear', 'linear'])"
      ],
      "execution_count": 8,
      "outputs": []
    },
    {
      "cell_type": "code",
      "metadata": {
        "colab": {
          "base_uri": "https://localhost:8080/"
        },
        "id": "QlDSDzzK4xvU",
        "outputId": "b38d9e2d-bd0f-48ad-e41e-3b536fa8c503"
      },
      "source": [
        "wx = demo_model.get_weights()[0]\n",
        "wh = demo_model.get_weights()[1]\n",
        "bh = demo_model.get_weights()[2]\n",
        "wy = demo_model.get_weights()[3]\n",
        "by = demo_model.get_weights()[4]\n",
        " \n",
        "print('wx = ', wx, ' wh = ', wh, ' bh = ', bh, ' wy =', wy, 'by = ', by)"
      ],
      "execution_count": 9,
      "outputs": [
        {
          "output_type": "stream",
          "name": "stdout",
          "text": [
            "wx =  [[-0.76444316 -0.11742139  0.6672487   0.28831458  0.14170933]]  wh =  [[-0.06046879  0.44909358  0.35842323 -0.44975224  0.6811123 ]\n",
            " [-0.25835446  0.38064852 -0.5483283  -0.58940345 -0.37456563]\n",
            " [-0.8578503  -0.4796846   0.06061804 -0.08627974  0.15125051]\n",
            " [ 0.25307256 -0.39983186  0.5142182  -0.60394627 -0.38329795]\n",
            " [-0.3600604   0.5132823   0.5502491   0.27951956 -0.4753867 ]]  bh =  [0. 0. 0. 0. 0.]  wy = [[-0.6247449 ]\n",
            " [-0.25672746]\n",
            " [ 0.02361417]\n",
            " [ 0.44204926]\n",
            " [-0.3976605 ]] by =  [0.]\n"
          ]
        }
      ]
    },
    {
      "cell_type": "code",
      "metadata": {
        "colab": {
          "base_uri": "https://localhost:8080/"
        },
        "id": "L6s6mXgn46PZ",
        "outputId": "e6dd077d-b15d-4e0f-d9c2-6a96825897e6"
      },
      "source": [
        "x = np.array([1, 2, 3, 4, 5])\n",
        "# Reshape the input to the required sample_size x time_steps x features \n",
        "x_input = np.reshape(x,(1, 5, 1))\n",
        "y_pred_model = demo_model.predict(x_input)\n",
        " \n",
        "m = 5\n",
        "h0 = np.zeros(m)\n",
        "h1 = np.dot(x[0], wx) + h0 + bh\n",
        "h2 = np.dot(x[1], wx) + np.dot(h1,wh) + bh\n",
        "h3 = np.dot(x[2], wx) + np.dot(h2,wh) + bh\n",
        "h4 = np.dot(x[3], wx) + np.dot(h3,wh) + bh\n",
        "h5 = np.dot(x[4], wx) + np.dot(h4,wh) + bh\n",
        "o6 = np.dot(h5, wy) + by\n",
        " \n",
        "print('h1 = ', h1,'h2 = ', h2,'h3 = ', h3, 'h4 = ', h4, 'h5 = ', h5,)\n",
        " \n",
        "print(\"Prediction from network \", y_pred_model)\n",
        "print(\"Prediction from our computation \", o6)"
      ],
      "execution_count": 11,
      "outputs": [
        {
          "output_type": "stream",
          "name": "stdout",
          "text": [
            "h1 =  [[-0.76444316 -0.11742139  0.66724873  0.28831458  0.14170933]] h2 =  [[-2.00278396 -0.98545497  1.39156808  0.79756172 -0.27022637]] h3 =  [[-2.81224518 -2.75192033  2.17003778  1.66924876 -0.53664159]] h4 =  [[-3.42265184 -4.76396237  3.86459163  2.69469455 -0.37433069]] h5 =  [[-4.8829675  -7.06094027  6.13565084  3.72329466 -0.10864462]]\n",
            "Prediction from network  [[6.697318]]\n",
            "Prediction from our computation  [[6.69731788]]\n"
          ]
        }
      ]
    },
    {
      "cell_type": "code",
      "metadata": {
        "id": "0HDne94F74nn"
      },
      "source": [
        "# Parameter split_percent defines the ratio of training examples\n",
        "def get_train_test(url, split_percent=0.8):\n",
        "    df = read_csv(url, usecols=[1], engine='python')\n",
        "    data = np.array(df.values.astype('float32'))\n",
        "    scaler = MinMaxScaler(feature_range=(0, 1))\n",
        "    data = scaler.fit_transform(data).flatten()\n",
        "    n = len(data)\n",
        "    # Point for splitting data into train and test\n",
        "    split = int(n*split_percent)\n",
        "    train_data = data[range(split)]\n",
        "    test_data = data[split:]\n",
        "    return train_data, test_data, data\n",
        "\n",
        "dataset_url = 'https://raw.githubusercontent.com/AnLiMan/RNN/main/TestDataset3.csv' \n",
        "train_data, test_data, data = get_train_test(dataset_url)"
      ],
      "execution_count": 12,
      "outputs": []
    },
    {
      "cell_type": "code",
      "metadata": {
        "id": "sdE9q9wy5J3V"
      },
      "source": [
        "# Prepare the input X and target Y\n",
        "def get_XY(dat, time_steps):\n",
        "    # Indices of target array\n",
        "    Y_ind = np.arange(time_steps, len(dat), time_steps)\n",
        "    Y = dat[Y_ind]\n",
        "    # Prepare X\n",
        "    rows_x = len(Y)\n",
        "    X = dat[range(time_steps*rows_x)]\n",
        "    X = np.reshape(X, (rows_x, time_steps, 1))    \n",
        "    return X, Y\n",
        " \n",
        "time_steps = 12\n",
        "trainX, trainY = get_XY(train_data, time_steps)\n",
        "testX, testY = get_XY(test_data, time_steps)"
      ],
      "execution_count": 13,
      "outputs": []
    },
    {
      "cell_type": "code",
      "metadata": {
        "colab": {
          "base_uri": "https://localhost:8080/"
        },
        "id": "J1cIvs4a5NOX",
        "outputId": "4cba7d03-d2cc-4afe-e465-1b19394cd8d8"
      },
      "source": [
        "model = create_RNN(hidden_units=6, dense_units=1, input_shape=(time_steps,1), \n",
        "                   activation=['tanh', 'tanh'])\n",
        "model.fit(trainX, trainY, epochs=20, batch_size=1, verbose=2, shuffle = True)\n",
        "model.summary()\n",
        "\n",
        "# Сохраним всю модель в  HDF5 файл\n",
        "model.save(\"/content/drive/My Drive/Files for colab/RNN_Model\" + str(number_of_interations) + \".h5\")"
      ],
      "execution_count": 14,
      "outputs": [
        {
          "output_type": "stream",
          "name": "stdout",
          "text": [
            "Epoch 1/20\n",
            "13/13 - 1s - loss: 0.2041\n",
            "Epoch 2/20\n",
            "13/13 - 0s - loss: 0.1764\n",
            "Epoch 3/20\n",
            "13/13 - 0s - loss: 0.1501\n",
            "Epoch 4/20\n",
            "13/13 - 0s - loss: 0.1302\n",
            "Epoch 5/20\n",
            "13/13 - 0s - loss: 0.1134\n",
            "Epoch 6/20\n",
            "13/13 - 0s - loss: 0.0986\n",
            "Epoch 7/20\n",
            "13/13 - 0s - loss: 0.0921\n",
            "Epoch 8/20\n",
            "13/13 - 0s - loss: 0.0843\n",
            "Epoch 9/20\n",
            "13/13 - 0s - loss: 0.0807\n",
            "Epoch 10/20\n",
            "13/13 - 0s - loss: 0.0777\n",
            "Epoch 11/20\n",
            "13/13 - 0s - loss: 0.0763\n",
            "Epoch 12/20\n",
            "13/13 - 0s - loss: 0.0750\n",
            "Epoch 13/20\n",
            "13/13 - 0s - loss: 0.0733\n",
            "Epoch 14/20\n",
            "13/13 - 0s - loss: 0.0725\n",
            "Epoch 15/20\n",
            "13/13 - 0s - loss: 0.0703\n",
            "Epoch 16/20\n",
            "13/13 - 0s - loss: 0.0693\n",
            "Epoch 17/20\n",
            "13/13 - 0s - loss: 0.0676\n",
            "Epoch 18/20\n",
            "13/13 - 0s - loss: 0.0668\n",
            "Epoch 19/20\n",
            "13/13 - 0s - loss: 0.0653\n",
            "Epoch 20/20\n",
            "13/13 - 0s - loss: 0.0637\n",
            "Model: \"sequential_4\"\n",
            "_________________________________________________________________\n",
            "Layer (type)                 Output Shape              Param #   \n",
            "=================================================================\n",
            "simple_rnn_4 (SimpleRNN)     (None, 6)                 48        \n",
            "_________________________________________________________________\n",
            "dense_4 (Dense)              (None, 1)                 7         \n",
            "=================================================================\n",
            "Total params: 55\n",
            "Trainable params: 55\n",
            "Non-trainable params: 0\n",
            "_________________________________________________________________\n"
          ]
        }
      ]
    },
    {
      "cell_type": "code",
      "metadata": {
        "colab": {
          "base_uri": "https://localhost:8080/"
        },
        "id": "aWhzoiVlD3Qx",
        "outputId": "7eede067-50ce-45cf-b4d7-326ab579e48c"
      },
      "source": [
        "# Восстановим в точности ту же модель, включая веса и оптимизатор\n",
        "\n",
        "Loading_model = keras.models.load_model(\"/content/drive/My Drive/Files for colab/RNN_Model\" + str(number_of_interations) + \".h5\")\n",
        "Loading_model.summary()"
      ],
      "execution_count": 15,
      "outputs": [
        {
          "output_type": "stream",
          "name": "stdout",
          "text": [
            "Model: \"sequential_4\"\n",
            "_________________________________________________________________\n",
            "Layer (type)                 Output Shape              Param #   \n",
            "=================================================================\n",
            "simple_rnn_4 (SimpleRNN)     (None, 6)                 48        \n",
            "_________________________________________________________________\n",
            "dense_4 (Dense)              (None, 1)                 7         \n",
            "=================================================================\n",
            "Total params: 55\n",
            "Trainable params: 55\n",
            "Non-trainable params: 0\n",
            "_________________________________________________________________\n"
          ]
        }
      ]
    },
    {
      "cell_type": "code",
      "metadata": {
        "colab": {
          "base_uri": "https://localhost:8080/"
        },
        "id": "i0qM8pwa5RNf",
        "outputId": "8426aee8-8f4c-421a-a333-d4049e98ed0e"
      },
      "source": [
        "def print_error(trainY, testY, train_predict, test_predict):    \n",
        "    # Error of predictions\n",
        "    train_rmse = math.sqrt(mean_squared_error(trainY, train_predict))\n",
        "    test_rmse = math.sqrt(mean_squared_error(testY, test_predict))\n",
        "    # Print RMSE\n",
        "    print('Train RMSE: %.3f RMSE' % (train_rmse))\n",
        "    print('Test RMSE: %.3f RMSE' % (test_rmse))    \n",
        " \n",
        "# make predictions\n",
        "train_predict = model.predict(trainX)\n",
        "test_predict = model.predict(testX)\n",
        "# Mean square error\n",
        "print_error(trainY, testY, train_predict, test_predict)"
      ],
      "execution_count": 16,
      "outputs": [
        {
          "output_type": "stream",
          "name": "stdout",
          "text": [
            "Train RMSE: 0.249 RMSE\n",
            "Test RMSE: 0.141 RMSE\n"
          ]
        }
      ]
    },
    {
      "cell_type": "code",
      "metadata": {
        "colab": {
          "base_uri": "https://localhost:8080/",
          "height": 444
        },
        "id": "ZUp0uTzo5Txi",
        "outputId": "0b69e6cc-f692-4f6d-be3e-34bea3e61c7d"
      },
      "source": [
        "# Plot the result\n",
        "def plot_result(trainY, testY, train_predict, test_predict):\n",
        "    actual = np.append(trainY, testY)\n",
        "    predictions = np.append(train_predict, test_predict)\n",
        "    rows = len(actual)\n",
        "    plt.figure(figsize=(15, 6), dpi=80)\n",
        "    plt.plot(range(rows), actual)\n",
        "    plt.plot(range(rows), predictions)\n",
        "    plt.axvline(x=len(trainY), color='r')\n",
        "    plt.legend(['Actual', 'Predictions'])\n",
        "    plt.xlabel('x')\n",
        "    plt.ylabel('y')\n",
        "    plt.title('Actual and Predicted Values. The Red Line Separates The Training And Test Examples')\n",
        "    plt.grid()\n",
        "plot_result(trainY, testY, train_predict, test_predict)"
      ],
      "execution_count": 17,
      "outputs": [
        {
          "output_type": "display_data",
          "data": {
            "image/png": "[encoded data removed]",
            "text/plain": [
              "<Figure size 1200x480 with 1 Axes>"
            ]
          },
          "metadata": {
            "needs_background": "light"
          }
        }
      ]
    }
  ]
}